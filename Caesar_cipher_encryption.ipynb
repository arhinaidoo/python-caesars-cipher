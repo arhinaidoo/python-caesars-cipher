{
 "cells": [
  {
   "cell_type": "code",
   "execution_count": null,
   "id": "24beb998",
   "metadata": {},
   "outputs": [],
   "source": [
    "alphabet = 'ABCDEFGHIJKLMNOPQRSTUVWXYZ'\n",
    "shift = 3\n",
    "def encrypt(plaintext, shift):\n",
    "    ciphertext = ''\n",
    "    for c in plaintext:\n",
    "        if c in alphabet:\n",
    "            ciphertext += alphabet[(alphabet.index(c) + shift) % len(alphabet)]\n",
    "        else:\n",
    "            ciphertext += c\n",
    "    return ciphertext\n",
    "\n",
    "def decrypt(ciphertext, shift):\n",
    "     plaintext = ''\n",
    "     for c in ciphertext:\n",
    "         if c in alphabet:\n",
    "             plaintext += alphabet[(alphabet.index(c) - shift) % len(alphabet)]\n",
    "         else:\n",
    "             plaintext += c\n",
    "     return plaintext\n",
    "plaintext = 'THE QUICK BROWN FOX JUMPS OVER THE LAZY DOG'\n",
    "ciphertext = encrypt(plaintext, shift)\n",
    "# QEB NRFZH YOLTK CLU GRJMP LSBO QEB IXWV ALD\n",
    "print(ciphertext) \n",
    "\n",
    "decrypted = decrypt(ciphertext, shift)\n",
    "# THE QUICK BROWN FOX JUMPS OVER THE LAZY DOG\n",
    "print(decrypted) "
   ]
  }
 ],
 "metadata": {
  "kernelspec": {
   "display_name": "Python 3",
   "language": "python",
   "name": "python3"
  },
  "language_info": {
   "codemirror_mode": {
    "name": "ipython",
    "version": 3
   },
   "file_extension": ".py",
   "mimetype": "text/x-python",
   "name": "python",
   "nbconvert_exporter": "python",
   "pygments_lexer": "ipython3",
   "version": "3.8.8"
  }
 },
 "nbformat": 4,
 "nbformat_minor": 5
}
